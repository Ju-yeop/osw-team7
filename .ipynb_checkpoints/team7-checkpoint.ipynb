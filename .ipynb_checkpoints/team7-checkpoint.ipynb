{
 "cells": [
  {
   "cell_type": "code",
   "execution_count": 2,
   "id": "e212f954",
   "metadata": {},
   "outputs": [
    {
     "name": "stdout",
     "output_type": "stream",
     "text": [
      "Requirement already satisfied: python-vlc in c:\\users\\k2901\\anaconda3\\lib\\site-packages (3.0.18122)\n",
      "Note: you may need to restart the kernel to use updated packages.\n"
     ]
    },
    {
     "name": "stderr",
     "output_type": "stream",
     "text": [
      "WARNING: Ignoring invalid distribution -ycryptodomex (c:\\users\\k2901\\anaconda3\\lib\\site-packages)\n",
      "WARNING: Ignoring invalid distribution -ycryptodomex (c:\\users\\k2901\\anaconda3\\lib\\site-packages)\n",
      "WARNING: Ignoring invalid distribution -ycryptodomex (c:\\users\\k2901\\anaconda3\\lib\\site-packages)\n",
      "WARNING: Ignoring invalid distribution -ycryptodomex (c:\\users\\k2901\\anaconda3\\lib\\site-packages)\n",
      "WARNING: Ignoring invalid distribution -ycryptodomex (c:\\users\\k2901\\anaconda3\\lib\\site-packages)\n",
      "WARNING: Ignoring invalid distribution -ycryptodomex (c:\\users\\k2901\\anaconda3\\lib\\site-packages)\n"
     ]
    }
   ],
   "source": [
    "pip install python-vlc"
   ]
  },
  {
   "cell_type": "code",
   "execution_count": 1,
   "id": "fddf1862",
   "metadata": {},
   "outputs": [
    {
     "name": "stdout",
     "output_type": "stream",
     "text": [
      "Name: python-vlc\n",
      "Version: 3.0.18122\n",
      "Summary: VLC bindings for python.\n",
      "Home-page: http://wiki.videolan.org/PythonBinding\n",
      "Author: Olivier Aubert\n",
      "Author-email: contact@olivieraubert.net\n",
      "License: LGPL-2.1+\n",
      "Location: c:\\users\\juyeo\\anaconda3\\lib\\site-packages\n",
      "Requires: \n",
      "Required-by: \n",
      "Note: you may need to restart the kernel to use updated packages.\n"
     ]
    }
   ],
   "source": [
    "pip show python-vlc"
   ]
  },
  {
   "cell_type": "code",
   "execution_count": 5,
   "id": "c7960487",
   "metadata": {},
   "outputs": [
    {
     "name": "stderr",
     "output_type": "stream",
     "text": [
      "2023-06-08 10:23:10,696 - network - INFO - Connecting to localhost port 8888\n",
      "2023-06-08 10:23:10,720 - network - INFO - New data receiver thread started.\n"
     ]
    },
    {
     "ename": "SystemExit",
     "evalue": "0",
     "output_type": "error",
     "traceback": [
      "An exception has occurred, use %tb to see the full traceback.\n",
      "\u001b[1;31mSystemExit\u001b[0m\u001b[1;31m:\u001b[0m 0\n"
     ]
    }
   ],
   "source": [
    "#! /usr/bin/env python3\n",
    "#\n",
    "# PyQt5-based video-sync example for VLC Python bindings\n",
    "# Copyright (C) 2009-2010 the VideoLAN team\n",
    "#\n",
    "# This program is free software; you can redistribute it and/or modify\n",
    "# it under the terms of the GNU General Public License as published by\n",
    "# the Free Software Foundation; either version 2 of the License, or\n",
    "# (at your option) any later version.\n",
    "#\n",
    "# This program is distributed in the hope that it will be useful,\n",
    "# but WITHOUT ANY WARRANTY; without even the implied warranty of\n",
    "# MERCHANTABILITY or FITNESS FOR A PARTICULAR PURPOSE.  See the\n",
    "# GNU General Public License for more details.\n",
    "#\n",
    "# You should have received a copy of the GNU General Public License\n",
    "# along with this program; if not, write to the Free Software\n",
    "# Foundation, Inc., 51 Franklin Street, Fifth Floor, Boston MA 02110-1301, USA.\n",
    "#\n",
    "\"\"\"\n",
    "This module contains a bare-bones VLC player class to play videos.\n",
    "\n",
    "Author: Saveliy Yusufov, Columbia University, sy2685@columbia.edu\n",
    "Date: 25 January 2019\n",
    "\"\"\"\n",
    "\n",
    "import os\n",
    "import sys\n",
    "import queue\n",
    "import platform\n",
    "\n",
    "\n",
    "from PyQt5 import QtWidgets, QtGui, QtCore\n",
    "import vlc\n",
    "from network import Client\n",
    "\n",
    "\n",
    "class MiniPlayer(QtWidgets.QMainWindow):\n",
    "    \"\"\"Stripped-down PyQt5-based media player class to sync with \"master\" video.\n",
    "    \"\"\"\n",
    "\n",
    "    def __init__(self, data_queue, master=None):\n",
    "        QtWidgets.QMainWindow.__init__(self, master)\n",
    "        self.setWindowTitle(\"Mini Player\")\n",
    "        self.statusbar = self.statusBar()\n",
    "        self.statusbar.showMessage(\"Ready\")\n",
    "\n",
    "        # Create a basic vlc instance\n",
    "        self.instance = vlc.Instance()\n",
    "\n",
    "        self.media = None\n",
    "\n",
    "        # Create an empty vlc media player\n",
    "        self.mediaplayer = self.instance.media_player_new()\n",
    "\n",
    "        self.init_ui()\n",
    "        self.open_file()\n",
    "\n",
    "        self.timer = QtCore.QTimer(self)\n",
    "        self.timer.setInterval(10)\n",
    "        self.timer.timeout.connect(self.update_ui)\n",
    "\n",
    "        self.data_queue = data_queue\n",
    "        self.timer.start()\n",
    "\n",
    "    def init_ui(self):\n",
    "        \"\"\"Set up the user interface\n",
    "        \"\"\"\n",
    "        self.widget = QtWidgets.QWidget(self)\n",
    "        self.setCentralWidget(self.widget)\n",
    "\n",
    "        # In this widget, the video will be drawn\n",
    "        if platform.system() == \"Darwin\":  # for MacOS\n",
    "            self.videoframe = QtWidgets.QMacCocoaViewContainer(0)\n",
    "        else:\n",
    "            self.videoframe = QtWidgets.QFrame()\n",
    "\n",
    "        self.palette = self.videoframe.palette()\n",
    "        self.palette.setColor(QtGui.QPalette.Window, QtGui.QColor(0, 0, 0))\n",
    "        self.videoframe.setPalette(self.palette)\n",
    "        self.videoframe.setAutoFillBackground(True)\n",
    "\n",
    "        self.vboxlayout = QtWidgets.QVBoxLayout()\n",
    "        self.vboxlayout.addWidget(self.videoframe)\n",
    "        self.widget.setLayout(self.vboxlayout)\n",
    "\n",
    "    def open_file(self):\n",
    "        \"\"\"Open a media file in a MediaPlayer\n",
    "        \"\"\"\n",
    "        dialog_txt = \"Choose Media File\"\n",
    "        filename = QtWidgets.QFileDialog.getOpenFileName(self, dialog_txt, os.path.expanduser('~'))\n",
    "        if not filename[0]:\n",
    "            return\n",
    "\n",
    "        # getOpenFileName returns a tuple, so use only the actual file name\n",
    "        self.media = self.instance.media_new(filename[0])\n",
    "\n",
    "        # Put the media in the media player\n",
    "        self.mediaplayer.set_media(self.media)\n",
    "\n",
    "        # Parse the metadata of the file\n",
    "        self.media.parse()\n",
    "\n",
    "        # Set the title of the track as the window title\n",
    "        self.setWindowTitle(\"{}\".format(self.media.get_meta(0)))\n",
    "\n",
    "        # The media player has to be 'connected' to the QFrame (otherwise the\n",
    "        # video would be displayed in it's own window). This is platform\n",
    "        # specific, so we must give the ID of the QFrame (or similar object) to\n",
    "        # vlc. Different platforms have different functions for this\n",
    "        if platform.system() == \"Linux\":  # for Linux using the X Server\n",
    "            self.mediaplayer.set_xwindow(int(self.videoframe.winId()))\n",
    "        elif platform.system() == \"Windows\":  # for Windows\n",
    "            self.mediaplayer.set_hwnd(int(self.videoframe.winId()))\n",
    "        elif platform.system() == \"Darwin\":  # for MacOS\n",
    "            self.mediaplayer.set_nsobject(int(self.videoframe.winId()))\n",
    "\n",
    "        # Start playing the video as soon as it loads\n",
    "        self.mediaplayer.play()\n",
    "\n",
    "    def update_ui(self):\n",
    "        self.update_statusbar()\n",
    "\n",
    "        try:\n",
    "            val = self.data_queue.get(block=False)\n",
    "        except queue.Empty:\n",
    "            return\n",
    "\n",
    "        if val == '<':\n",
    "            self.mediaplayer.set_rate(self.mediaplayer.get_rate() * 0.5)\n",
    "            return\n",
    "        if val == '>':\n",
    "            self.mediaplayer.set_rate(self.mediaplayer.get_rate() * 2)\n",
    "            return\n",
    "        if val == 'P':\n",
    "            self.mediaplayer.play()\n",
    "            return\n",
    "        if val == 'p':\n",
    "            self.mediaplayer.pause()\n",
    "            return\n",
    "        if val == 'S':\n",
    "            self.mediaplayer.stop()\n",
    "            return\n",
    "\n",
    "        val = int(val)\n",
    "        if val != self.mediaplayer.get_time():\n",
    "            self.mediaplayer.set_time(val)\n",
    "\n",
    "    def update_statusbar(self):\n",
    "        mtime = QtCore.QTime(0, 0, 0, 0)\n",
    "        time = mtime.addMSecs(self.mediaplayer.get_time())\n",
    "        self.statusbar.showMessage(time.toString())\n",
    "\n",
    "\n",
    "def main():\n",
    "    \"\"\"Entry point for our simple vlc player\n",
    "    \"\"\"\n",
    "    app = QtWidgets.QApplication(sys.argv)\n",
    "\n",
    "    data_queue = queue.Queue()\n",
    "\n",
    "    player = MiniPlayer(data_queue)\n",
    "    player.setWindowFlags(QtCore.Qt.WindowStaysOnTopHint)  # 영상 제일 위\n",
    "    player.show()\n",
    "    player.resize(500, 500)\n",
    "\n",
    "    _ = Client(\"localhost\", 8888, data_queue)\n",
    "    sys.exit(app.exec_())\n",
    "\n",
    "\n",
    "if __name__ == \"__main__\":\n",
    "    main()\n"
   ]
  },
  {
   "cell_type": "code",
   "execution_count": 1,
   "id": "d0bbffeb",
   "metadata": {},
   "outputs": [
    {
     "name": "stdout",
     "output_type": "stream",
     "text": [
      "[youtube] Extracting URL: http://www.youtube.com/watch?v=Lr9xbHtpAfU\n",
      "[youtube] Lr9xbHtpAfU: Downloading webpage\n",
      "[youtube] Lr9xbHtpAfU: Downloading android player API JSON\n",
      "[youtube] Lr9xbHtpAfU: Downloading MPD manifest\n",
      "[info] Lr9xbHtpAfU: Downloading 1 format(s): 248+251\n"
     ]
    },
    {
     "name": "stderr",
     "output_type": "stream",
     "text": [
      "WARNING: You have requested merging of multiple formats but ffmpeg is not installed. The formats won't be merged\n"
     ]
    },
    {
     "name": "stdout",
     "output_type": "stream",
     "text": [
      "[dashsegments] Total fragments: 54\n",
      "[download] Destination: 한양대학교 ERICA 홍보영상.f248.webm\n",
      "[download] 100% of   55.26MiB in 00:00:12 at 4.53MiB/s                    Done downloading, now converting ...\n",
      "\n",
      "[download] Destination: 한양대학교 ERICA 홍보영상.f251.webm\n",
      "[download] 100% of    4.63MiB in 00:00:00 at 7.16MiB/s   Done downloading, now converting ...\n",
      "\n"
     ]
    }
   ],
   "source": [
    "from __future__ import unicode_literals\n",
    "import yt_dlp as youtube_dl\n",
    "\n",
    "def my_hook(d):\n",
    "    if d['status'] == 'finished':\n",
    "        print('Done downloading, now converting ...')\n",
    "\n",
    "ydl_opts = {\n",
    "    'download_archive': 'archive.txt',\n",
    "    'ignoreerrors': True,\n",
    "    'nooverwrites': True,\n",
    "    'format': 'bestvideo[height<=1080]+bestaudio/best[height<=1080]/best',       \n",
    "    'outtmpl': '%(title)s.%(ext)s',        \n",
    "    'noplaylist' : False,       \n",
    "    'progress_hooks': [my_hook],  \n",
    "}\n",
    "\n",
    "with youtube_dl.YoutubeDL(ydl_opts) as ydl:\n",
    "    ydl.download(['http://www.youtube.com/watch?v=Lr9xbHtpAfU'])"
   ]
  },
  {
   "cell_type": "code",
   "execution_count": null,
   "id": "8a58ef54",
   "metadata": {},
   "outputs": [],
   "source": []
  }
 ],
 "metadata": {
  "kernelspec": {
   "display_name": "Python 3 (ipykernel)",
   "language": "python",
   "name": "python3"
  },
  "language_info": {
   "codemirror_mode": {
    "name": "ipython",
    "version": 3
   },
   "file_extension": ".py",
   "mimetype": "text/x-python",
   "name": "python",
   "nbconvert_exporter": "python",
   "pygments_lexer": "ipython3",
   "version": "3.10.9"
  }
 },
 "nbformat": 4,
 "nbformat_minor": 5
}
