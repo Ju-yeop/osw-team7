{
 "cells": [
  {
   "cell_type": "code",
   "execution_count": 1,
   "id": "e212f954",
   "metadata": {},
   "outputs": [
    {
     "name": "stdout",
     "output_type": "stream",
     "text": [
      "Requirement already satisfied: python-vlc in c:\\users\\deisa\\appdata\\local\\programs\\python\\python311\\lib\\site-packages (3.0.18122)\n",
      "Note: you may need to restart the kernel to use updated packages.\n"
     ]
    },
    {
     "name": "stderr",
     "output_type": "stream",
     "text": [
      "\n",
      "[notice] A new release of pip available: 22.3.1 -> 23.1.2\n",
      "[notice] To update, run: python.exe -m pip install --upgrade pip\n"
     ]
    }
   ],
   "source": [
    "pip install python-vlc"
   ]
  },
  {
   "cell_type": "code",
   "execution_count": 2,
   "id": "fddf1862",
   "metadata": {},
   "outputs": [
    {
     "name": "stdout",
     "output_type": "stream",
     "text": [
      "Name: python-vlc\n",
      "Version: 3.0.18122\n",
      "Summary: VLC bindings for python.\n",
      "Home-page: http://wiki.videolan.org/PythonBinding\n",
      "Author: Olivier Aubert\n",
      "Author-email: contact@olivieraubert.net\n",
      "License: LGPL-2.1+\n",
      "Location: C:\\Users\\deisa\\AppData\\Local\\Programs\\Python\\Python311\\Lib\\site-packages\n",
      "Requires: \n",
      "Required-by: \n",
      "Note: you may need to restart the kernel to use updated packages.\n"
     ]
    }
   ],
   "source": [
    "pip show python-vlc"
   ]
  },
  {
   "cell_type": "code",
   "execution_count": 10,
   "id": "c7960487",
   "metadata": {
    "scrolled": true
   },
   "outputs": [],
   "source": [
    "#! /usr/bin/env python3\n",
    "#\n",
    "# PyQt5-based video-sync example for VLC Python bindings\n",
    "# Copyright (C) 2009-2010 the VideoLAN team\n",
    "#\n",
    "# This program is free software; you can redistribute it and/or modify\n",
    "# it under the terms of the GNU General Public License as published by\n",
    "# the Free Software Foundation; either version 2 of the License, or\n",
    "# (at your option) any later version.\n",
    "#\n",
    "# This program is distributed in the hope that it will be useful,\n",
    "# but WITHOUT ANY WARRANTY; without even the implied warranty of\n",
    "# MERCHANTABILITY or FITNESS FOR A PARTICULAR PURPOSE.  See the\n",
    "# GNU General Public License for more details.\n",
    "#\n",
    "# You should have received a copy of the GNU General Public License\n",
    "# along with this program; if not, write to the Free Software\n",
    "# Foundation, Inc., 51 Franklin Street, Fifth Floor, Boston MA 02110-1301, USA.\n",
    "#\n",
    "\"\"\"\n",
    "This module contains a bare-bones VLC player class to play videos.\n",
    "\n",
    "Author: Saveliy Yusufov, Columbia University, sy2685@columbia.edu\n",
    "Date: 25 January 2019\n",
    "\"\"\"\n",
    "import os\n",
    "import sys\n",
    "import queue\n",
    "import platform\n",
    "\n",
    "from PyQt5 import QtWidgets, QtGui, QtCore\n",
    "import vlc\n",
    "\n",
    "\n",
    "class MiniPlayer(QtWidgets.QMainWindow):\n",
    "    \"\"\"Stripped-down PyQt5-based media player class to sync with \"master\" video.\n",
    "    \"\"\"\n",
    "\n",
    "    def __init__(self, data_queue, master=None):\n",
    "        QtWidgets.QMainWindow.__init__(self, master)\n",
    "        self.setWindowTitle(\"Mini Player\")\n",
    "        self.statusbar = self.statusBar()\n",
    "        self.statusbar.showMessage(\"Ready\")\n",
    "\n",
    "        # Create a basic vlc instance\n",
    "        self.instance = vlc.Instance()\n",
    "\n",
    "        self.media = None\n",
    "\n",
    "        # Create an empty vlc media player\n",
    "        self.mediaplayer = self.instance.media_player_new()\n",
    "\n",
    "        self.init_ui()\n",
    "        self.open_file()\n",
    "\n",
    "        self.timer = QtCore.QTimer(self)\n",
    "        self.timer.setInterval(10)\n",
    "        self.timer.timeout.connect(self.update_ui)\n",
    "\n",
    "        self.data_queue = data_queue\n",
    "        self.timer.start()\n",
    "\n",
    "    def init_ui(self):\n",
    "        \"\"\"Set up the user interface\n",
    "        \"\"\"\n",
    "        self.widget = QtWidgets.QWidget(self)\n",
    "        self.setCentralWidget(self.widget)\n",
    "\n",
    "        # In this widget, the video will be drawn\n",
    "        if platform.system() == \"Darwin\":  # for MacOS\n",
    "            self.videoframe = QtWidgets.QMacCocoaViewContainer(0)\n",
    "        else:\n",
    "            self.videoframe = QtWidgets.QFrame()\n",
    "\n",
    "        self.palette = self.videoframe.palette()\n",
    "        self.palette.setColor(QtGui.QPalette.Window, QtGui.QColor(0, 0, 0))\n",
    "        self.videoframe.setPalette(self.palette)\n",
    "        self.videoframe.setAutoFillBackground(True)\n",
    "\n",
    "        self.vboxlayout = QtWidgets.QVBoxLayout()\n",
    "        self.vboxlayout.addWidget(self.videoframe)\n",
    "        self.widget.setLayout(self.vboxlayout)\n",
    "\n",
    "    def open_file(self):\n",
    "        filename = \"한양대학교 ERICA 홍보영상.f248.webm\"  # Path to the webm video file\n",
    "    \n",
    "        # Create the media instance with the webm file\n",
    "        self.media = self.instance.media_new_path(filename)\n",
    "\n",
    "        # Put the media in the media player\n",
    "        self.mediaplayer.set_media(self.media)\n",
    "\n",
    "        # Set the title of the track as the window title\n",
    "        self.setWindowTitle(\"{}\".format(self.media.get_meta(0)))\n",
    "\n",
    "        # The media player has to be 'connected' to the QFrame (otherwise the\n",
    "        # video would be displayed in its own window). This is platform\n",
    "        # specific, so we must give the ID of the QFrame (or similar object) to\n",
    "        # VLC. Different platforms have different functions for this\n",
    "        if platform.system() == \"Linux\":  # for Linux using the X Server\n",
    "            self.mediaplayer.set_xwindow(int(self.videoframe.winId()))\n",
    "        elif platform.system() == \"Windows\":  # for Windows\n",
    "            self.mediaplayer.set_hwnd(int(self.videoframe.winId()))\n",
    "        elif platform.system() == \"Darwin\":  # for MacOS\n",
    "            self.mediaplayer.set_nsobject(int(self.videoframe.winId()))\n",
    "\n",
    "        # Start playing the video as soon as it loads\n",
    "        self.mediaplayer\n",
    "\n"
   ]
  },
  {
   "cell_type": "code",
   "execution_count": null,
   "id": "abf74d0a",
   "metadata": {},
   "outputs": [],
   "source": []
  }
 ],
 "metadata": {
  "kernelspec": {
   "display_name": "Python 3 (ipykernel)",
   "language": "python",
   "name": "python3"
  },
  "language_info": {
   "codemirror_mode": {
    "name": "ipython",
    "version": 3
   },
   "file_extension": ".py",
   "mimetype": "text/x-python",
   "name": "python",
   "nbconvert_exporter": "python",
   "pygments_lexer": "ipython3",
   "version": "3.11.2"
  }
 },
 "nbformat": 4,
 "nbformat_minor": 5
}
